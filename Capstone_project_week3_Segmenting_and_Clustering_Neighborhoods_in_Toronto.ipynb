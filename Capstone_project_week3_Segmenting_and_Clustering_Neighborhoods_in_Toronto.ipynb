{
 "cells": [
  {
   "cell_type": "markdown",
   "metadata": {},
   "source": [
    "# Peer-graded Assignment: Segmenting and Clustering Neighborhoods in Toronto"
   ]
  },
  {
   "cell_type": "markdown",
   "metadata": {},
   "source": [
    "## 1.Start by creating a new Notebook for this assignment"
   ]
  },
  {
   "cell_type": "code",
   "execution_count": null,
   "metadata": {
    "collapsed": true
   },
   "outputs": [],
   "source": [
    "#step1. import standard libraries\n",
    "import pandas as pd\n",
    "import numpy as np\n",
    "import requests"
   ]
  },
  {
   "cell_type": "code",
   "execution_count": null,
   "metadata": {
    "collapsed": false
   },
   "outputs": [],
   "source": [
    "#ste21. import bsp\n",
    "!pip install beautifulsoup4\n",
    "    "
   ]
  },
  {
   "cell_type": "code",
   "execution_count": null,
   "metadata": {
    "collapsed": true
   },
   "outputs": [],
   "source": [
    "from bs4 import BeautifulSoup"
   ]
  },
  {
   "cell_type": "markdown",
   "metadata": {},
   "source": [
    "## 2.Use the Notebook to build the code to scrape the following Wikipedia page..."
   ]
  },
  {
   "cell_type": "code",
   "execution_count": null,
   "metadata": {
    "collapsed": false
   },
   "outputs": [],
   "source": [
    "# Step2. Get data from Wikipedia\n",
    "wiki_link='https://en.wikipedia.org/wiki/List_of_postal_codes_of_Canada:_M'\n",
    "wiki_page= requests.get(wiki_link).text\n",
    "wiki_soup = BeautifulSoup(wiki_page,'xml')\n",
    "#print (wiki_soup)"
   ]
  },
  {
   "cell_type": "code",
   "execution_count": null,
   "metadata": {
    "collapsed": false
   },
   "outputs": [],
   "source": [
    "#Step3. Get row data\n",
    "\n",
    "#Step3.1: Get row data table\n",
    "table = wiki_soup.find('table')\n",
    "\n",
    "Postcode      = []\n",
    "Borough       = []\n",
    "Neighbourhood = []\n",
    "\n",
    "#Step 3.2: Clean row data data\n",
    "for tr_cell in table.find_all('tr'):#Iterating through rows and columns\n",
    "    \n",
    "    counter = 1\n",
    "    PC     = -1\n",
    "    Brgh = -1\n",
    "    Nbh = -1\n",
    "    \n",
    "    for td_cell in tr_cell.find_all('td'): #Iterating through rows and columns\n",
    "        if counter == 1: \n",
    "            PC = td_cell.text\n",
    "        if counter == 2: \n",
    "            Brgh = td_cell.text\n",
    "            checkBorough = td_cell.find('a')\n",
    "            \n",
    "        if counter == 3: \n",
    "            Nbh = str(td_cell.text).strip()\n",
    "            checkNbh = td_cell.find('a')\n",
    "            \n",
    "        counter +=1\n",
    "        \n",
    "    if (PC== 'Not assigned' or Brgh == 'Not assigned' or Nbh == 'Not assigned'): \n",
    "        continue\n",
    "    try:\n",
    "        if ((checkBorough is None) or (checkNbh is None)):\n",
    "            continue\n",
    "    except:\n",
    "        pass\n",
    "    if(PC == -1 or Brgh == -1 or Nbh == -1):\n",
    "        continue\n",
    "        \n",
    "    Postcode.append(PC)\n",
    "    Borough.append(Brgh)\n",
    "    Neighbourhood.append(Nbh)"
   ]
  },
  {
   "cell_type": "code",
   "execution_count": null,
   "metadata": {
    "collapsed": false
   },
   "outputs": [],
   "source": [
    "#More than one neighborhood can exist in one postal code area.\n",
    "#For example, in the table on the Wikipedia page, you will notice that M5A\n",
    "#is listed twice and has two neighborhoods: Harbourfront and Regent Park. \n",
    "#These two rows will be combined into one row with the neighborhoods separated with a comma as shown\n",
    "#in row 11 in the above table.\n",
    "\n",
    "#Step4. Get postal code with more than 1 neighbourhood\n",
    "\n",
    "PC_unique = set(Postcode)\n",
    "\n",
    "UniquePostcode     = []\n",
    "UniqueBorough    = []\n",
    "UniqueNeighbourhood = []\n",
    "\n",
    "for pc_uniqueGD in PC_unique:\n",
    "    pcv = ''; brgv = ''; nghv = ''; \n",
    "    for postcode_idx, postcode_element in enumerate(Postcode):\n",
    "        if pc_uniqueGD == postcode_element:\n",
    "            pcv = postcode_element;\n",
    "            brgv = Borough[postcode_idx]\n",
    "            if nghv == '': \n",
    "                nghv = Neighbourhood[postcode_idx]\n",
    "            else:\n",
    "                nghv = nghv + ', ' + Neighbourhood[postcode_idx]\n",
    "    UniquePostcode.append(pcv)\n",
    "    UniqueBorough.append(brgv)\n",
    "    UniqueNeighbourhood.append(nghv)\n",
    "\n",
    "#Step5. Get clean pd.dataframe from row data from wikipedia\n",
    "TableData= {'PostalCode': UniquePostcode, 'Borough': UniqueBorough, 'Neighbourhood': UniqueNeighbourhood}\n",
    "df_TableData = pd.DataFrame.from_dict(TableData)\n",
    "df_TableData.head(16)"
   ]
  },
  {
   "cell_type": "code",
   "execution_count": null,
   "metadata": {
    "collapsed": false
   },
   "outputs": [],
   "source": [
    "df_TableData.shape"
   ]
  },
  {
   "cell_type": "code",
   "execution_count": null,
   "metadata": {
    "collapsed": true
   },
   "outputs": [],
   "source": []
  }
 ],
 "metadata": {
  "kernelspec": {
   "display_name": "Python 3",
   "language": "python",
   "name": "python3"
  },
  "language_info": {
   "codemirror_mode": {
    "name": "ipython",
    "version": 3
   },
   "file_extension": ".py",
   "mimetype": "text/x-python",
   "name": "python",
   "nbconvert_exporter": "python",
   "pygments_lexer": "ipython3",
   "version": "3.5.2"
  },
  "widgets": {
   "state": {},
   "version": "1.1.2"
  }
 },
 "nbformat": 4,
 "nbformat_minor": 0
}
