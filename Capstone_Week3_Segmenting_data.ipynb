{
 "cells": [
  {
   "cell_type": "markdown",
   "metadata": {},
   "source": [
    "# Peer-graded Assignment: Segmenting and Clustering Neighborhoods in Toronto"
   ]
  },
  {
   "cell_type": "markdown",
   "metadata": {},
   "source": [
    "## 1.Start by creating a new Notebook for this assignment\n"
   ]
  },
  {
   "cell_type": "code",
   "execution_count": null,
   "metadata": {
    "collapsed": true
   },
   "outputs": [],
   "source": [
    "#done"
   ]
  },
  {
   "cell_type": "markdown",
   "metadata": {},
   "source": [
    "### To start we need pandas, numpy and Beautifulsoup"
   ]
  },
  {
   "cell_type": "code",
   "execution_count": 1,
   "metadata": {
    "collapsed": true
   },
   "outputs": [],
   "source": [
    "#step1. import standard libraries\n",
    "import pandas as pd\n",
    "import numpy as np\n",
    "import requests"
   ]
  },
  {
   "cell_type": "code",
   "execution_count": 2,
   "metadata": {
    "collapsed": false
   },
   "outputs": [
    {
     "name": "stdout",
     "output_type": "stream",
     "text": [
      "Requirement already satisfied: beautifulsoup4 in ./common/.virtualenv/python3/lib/python3.5/site-packages (4.7.1)\n",
      "Requirement already satisfied: soupsieve>=1.2 in ./common/.virtualenv/python3/lib/python3.5/site-packages (from beautifulsoup4) (1.7.3)\n",
      "\u001b[33mYou are using pip version 18.1, however version 19.0.1 is available.\n",
      "You should consider upgrading via the 'pip install --upgrade pip' command.\u001b[0m\n"
     ]
    }
   ],
   "source": [
    "#step1.1. import bsp\n",
    "!pip install beautifulsoup4\n",
    "from bs4 import BeautifulSoup"
   ]
  },
  {
   "cell_type": "markdown",
   "metadata": {},
   "source": [
    "### Get PostalCodes from Wikipedia"
   ]
  },
  {
   "cell_type": "code",
   "execution_count": 3,
   "metadata": {
    "collapsed": true
   },
   "outputs": [],
   "source": [
    "# Step2. Get data from Wikipedia\n",
    "wiki_link='https://en.wikipedia.org/wiki/List_of_postal_codes_of_Canada:_M'\n",
    "wiki_page= requests.get(wiki_link).text\n",
    "wiki_soup = BeautifulSoup(wiki_page,'xml')\n"
   ]
  },
  {
   "cell_type": "markdown",
   "metadata": {},
   "source": [
    "To create final dataframe we need import row data and clean up it:"
   ]
  },
  {
   "cell_type": "code",
   "execution_count": 5,
   "metadata": {
    "collapsed": false
   },
   "outputs": [],
   "source": [
    "#Step3. Get row data\n",
    "\n",
    "#Step3.1: Get row data table\n",
    "table = wiki_soup.find('table')\n",
    "\n",
    "#initialize\n",
    "Postcode      = []\n",
    "Borough       = []\n",
    "Neighbourhood = []\n",
    "\n",
    "#Step 3.2: Clean row data data\n",
    "for tr_cell in table.find_all('tr'):#Iterating through rows and columns\n",
    "   \n",
    "\n",
    "    var = 1\n",
    "    PC     = -1\n",
    "    Brgh = -1\n",
    "    Nbh = -1\n",
    "    \n",
    "    for td_cell in tr_cell.find_all('td'): #Iterating through rows and columns\n",
    "        if var == 1: \n",
    "            PC = td_cell.text\n",
    "        if var == 2: \n",
    "            Brgh = td_cell.text\n",
    "            checkBrgh = td_cell.find('a')\n",
    "            \n",
    "        if var == 3: \n",
    "            Nbh = str(td_cell.text).strip()\n",
    "            checkNbh = td_cell.find('a')\n",
    "            \n",
    "        var +=1\n",
    "        \n",
    "#handling errors:   \n",
    "\n",
    " if (PC== 'Not assigned' or Brgh == 'Not assigned' or Nbh == 'Not assigned'): \n",
    "        continue\n",
    "    try:\n",
    "        if ((checkBrgh is None) or (checkNbh is None)):\n",
    "            continue\n",
    "    except:\n",
    "        pass\n",
    "    if(PC == -1 or Brgh == -1 or Nbh == -1):\n",
    "        continue\n",
    "        \n",
    "    Postcode.append(PC)\n",
    "    Borough.append(Brgh)\n",
    "    Neighbourhood.append(Nbh)"
   ]
  },
  {
   "cell_type": "code",
   "execution_count": 6,
   "metadata": {
    "collapsed": false
   },
   "outputs": [
    {
     "data": {
      "text/html": [
       "<div>\n",
       "<style scoped>\n",
       "    .dataframe tbody tr th:only-of-type {\n",
       "        vertical-align: middle;\n",
       "    }\n",
       "\n",
       "    .dataframe tbody tr th {\n",
       "        vertical-align: top;\n",
       "    }\n",
       "\n",
       "    .dataframe thead th {\n",
       "        text-align: right;\n",
       "    }\n",
       "</style>\n",
       "<table border=\"1\" class=\"dataframe\">\n",
       "  <thead>\n",
       "    <tr style=\"text-align: right;\">\n",
       "      <th></th>\n",
       "      <th>Borough</th>\n",
       "      <th>Neighbourhood</th>\n",
       "      <th>PostalCode</th>\n",
       "    </tr>\n",
       "  </thead>\n",
       "  <tbody>\n",
       "    <tr>\n",
       "      <th>0</th>\n",
       "      <td>Downtown Toronto</td>\n",
       "      <td>Church and Wellesley</td>\n",
       "      <td>M4Y</td>\n",
       "    </tr>\n",
       "    <tr>\n",
       "      <th>1</th>\n",
       "      <td>Etobicoke</td>\n",
       "      <td>Islington Avenue</td>\n",
       "      <td>M9A</td>\n",
       "    </tr>\n",
       "    <tr>\n",
       "      <th>2</th>\n",
       "      <td>Downtown Toronto</td>\n",
       "      <td>Chinatown, Grange Park, Kensington Market</td>\n",
       "      <td>M5T</td>\n",
       "    </tr>\n",
       "    <tr>\n",
       "      <th>3</th>\n",
       "      <td>West Toronto</td>\n",
       "      <td>High Park</td>\n",
       "      <td>M6P</td>\n",
       "    </tr>\n",
       "    <tr>\n",
       "      <th>4</th>\n",
       "      <td>Scarborough</td>\n",
       "      <td>Agincourt North, Milliken</td>\n",
       "      <td>M1V</td>\n",
       "    </tr>\n",
       "    <tr>\n",
       "      <th>5</th>\n",
       "      <td>North York</td>\n",
       "      <td>Maple Leaf Park</td>\n",
       "      <td>M6L</td>\n",
       "    </tr>\n",
       "    <tr>\n",
       "      <th>6</th>\n",
       "      <td>East York</td>\n",
       "      <td>Thorncliffe Park</td>\n",
       "      <td>M4H</td>\n",
       "    </tr>\n",
       "    <tr>\n",
       "      <th>7</th>\n",
       "      <td>North York</td>\n",
       "      <td>Bedford Park</td>\n",
       "      <td>M5M</td>\n",
       "    </tr>\n",
       "    <tr>\n",
       "      <th>8</th>\n",
       "      <td>North York</td>\n",
       "      <td>Northwood Park, York University</td>\n",
       "      <td>M3J</td>\n",
       "    </tr>\n",
       "    <tr>\n",
       "      <th>9</th>\n",
       "      <td>Downtown Toronto</td>\n",
       "      <td>Toronto Islands, Union Station</td>\n",
       "      <td>M5J</td>\n",
       "    </tr>\n",
       "  </tbody>\n",
       "</table>\n",
       "</div>"
      ],
      "text/plain": [
       "            Borough                              Neighbourhood PostalCode\n",
       "0  Downtown Toronto                       Church and Wellesley        M4Y\n",
       "1         Etobicoke                           Islington Avenue        M9A\n",
       "2  Downtown Toronto  Chinatown, Grange Park, Kensington Market        M5T\n",
       "3      West Toronto                                  High Park        M6P\n",
       "4       Scarborough                  Agincourt North, Milliken        M1V\n",
       "5        North York                            Maple Leaf Park        M6L\n",
       "6         East York                           Thorncliffe Park        M4H\n",
       "7        North York                               Bedford Park        M5M\n",
       "8        North York            Northwood Park, York University        M3J\n",
       "9  Downtown Toronto             Toronto Islands, Union Station        M5J"
      ]
     },
     "execution_count": 6,
     "metadata": {},
     "output_type": "execute_result"
    }
   ],
   "source": [
    "#More than one neighborhood can exist in one postal code area.\n",
    "#For example, in the table on the Wikipedia page, you will notice that M5A\n",
    "#is listed twice and has two neighborhoods: Harbourfront and Regent Park. \n",
    "#These two rows will be combined into one row with the neighborhoods separated with a comma as shown\n",
    "#in row 11 in the above table.\n",
    "\n",
    "#Step4. Get postal code with more than 1 neighbourhood\n",
    "\n",
    "PC_unique = set(Postcode)\n",
    "\n",
    "UniquePostcode     = []\n",
    "UniqueBorough    = []\n",
    "UniqueNeighbourhood = []\n",
    "\n",
    "for pc_uniqueGD in PC_unique:\n",
    "    pcv = ''; brgv = ''; nghv = ''; \n",
    "    for postcode_idx, postcode_element in enumerate(Postcode):\n",
    "        if pc_uniqueGD == postcode_element:\n",
    "            pcv = postcode_element;\n",
    "            brgv = Borough[postcode_idx]\n",
    "            if nghv == '': \n",
    "                nghv = Neighbourhood[postcode_idx]\n",
    "            else:\n",
    "                nghv = nghv + ', ' + Neighbourhood[postcode_idx]\n",
    "    UniquePostcode.append(pcv)\n",
    "    UniqueBorough.append(brgv)\n",
    "    UniqueNeighbourhood.append(nghv)\n",
    "\n",
    "#Step5. Get clean pd.dataframe from row data from wikipedia\n",
    "TableData= {'PostalCode': UniquePostcode, 'Borough': UniqueBorough, 'Neighbourhood': UniqueNeighbourhood}\n",
    "df_TableData = pd.DataFrame.from_dict(TableData)\n",
    "df_TableData.head(10)"
   ]
  },
  {
   "cell_type": "code",
   "execution_count": 7,
   "metadata": {
    "collapsed": false
   },
   "outputs": [
    {
     "data": {
      "text/plain": [
       "(84, 3)"
      ]
     },
     "execution_count": 7,
     "metadata": {},
     "output_type": "execute_result"
    }
   ],
   "source": [
    "df_TableData.shape"
   ]
  },
  {
   "cell_type": "markdown",
   "metadata": {},
   "source": [
    "Thank you for grading,\n",
    "Marija"
   ]
  },
  {
   "cell_type": "code",
   "execution_count": null,
   "metadata": {
    "collapsed": true
   },
   "outputs": [],
   "source": []
  }
 ],
 "metadata": {
  "kernelspec": {
   "display_name": "Python 3",
   "language": "python",
   "name": "python3"
  },
  "language_info": {
   "codemirror_mode": {
    "name": "ipython",
    "version": 3
   },
   "file_extension": ".py",
   "mimetype": "text/x-python",
   "name": "python",
   "nbconvert_exporter": "python",
   "pygments_lexer": "ipython3",
   "version": "3.5.2"
  },
  "widgets": {
   "state": {},
   "version": "1.1.2"
  }
 },
 "nbformat": 4,
 "nbformat_minor": 0
}
